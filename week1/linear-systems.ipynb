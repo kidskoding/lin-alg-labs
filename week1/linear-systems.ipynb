{
 "cells": [
  {
   "metadata": {},
   "cell_type": "markdown",
   "source": [
    "# Lab 2 - Linear Systems as Matrices\n",
    "\n",
    "### Objective\n",
    "Learn how to represent linear systems as matrices,\n",
    "perform matrix operations, and solve linear systems using NumPy."
   ],
   "id": "43cc7afcf41f082b"
  },
  {
   "metadata": {
    "collapsed": true,
    "ExecuteTime": {
     "end_time": "2025-01-11T06:11:47.088232Z",
     "start_time": "2025-01-11T06:11:47.084930Z"
    }
   },
   "cell_type": "code",
   "source": "import numpy as np",
   "id": "initial_id",
   "outputs": [],
   "execution_count": 36
  },
  {
   "metadata": {},
   "cell_type": "markdown",
   "source": [
    "### Task 1 - Representing Linear Systems as Matrices\n",
    "\n",
    "1. Consider the system of equations\n",
    "\n",
    "    `3x + 4y = 7`<br />\n",
    "    `2x - y = 1`\n",
    "\n",
    "    Write the system as a matrix equation `AX = B`, where:\n",
    "    - A is the coefficient matrix\n",
    "    - X is the vector of unknowns\n",
    "    - B is the right-hand side vector\n",
    "2. Create the matrices using NumPy:\n",
    "    - $A = \\begin{bmatrix} 3 & 4 \\\\ 2 & -1 \\end{bmatrix}$\n",
    "    - $B = \\begin{bmatrix} 7 \\\\ 1 \\end{bmatrix}$"
   ],
   "id": "fb82ad402fd18913"
  },
  {
   "metadata": {},
   "cell_type": "markdown",
   "source": "1. $\\begin{bmatrix} 3 & 4 \\\\ 2 & -1 \\end{bmatrix} \\begin{bmatrix} x \\\\ y \\end{bmatrix} = \\begin{bmatrix} 7 \\\\ 1 \\end{bmatrix}$",
   "id": "a9839a4d50ef461a"
  },
  {
   "metadata": {
    "ExecuteTime": {
     "end_time": "2025-01-11T06:12:17.449441Z",
     "start_time": "2025-01-11T06:12:17.445492Z"
    }
   },
   "cell_type": "code",
   "source": [
    "# 2.\n",
    "A = np.array([[3, 4], [2, -1]])\n",
    "B = np.array([[7], [1]])\n",
    "\n",
    "print('A')\n",
    "print(A, end=\"\\n\\n\")\n",
    "\n",
    "print('B')\n",
    "print(B)"
   ],
   "id": "2c15dcd2c7c809a6",
   "outputs": [
    {
     "name": "stdout",
     "output_type": "stream",
     "text": [
      "A\n",
      "[[ 3  4]\n",
      " [ 2 -1]]\n",
      "\n",
      "B\n",
      "[[7]\n",
      " [1]]\n"
     ]
    }
   ],
   "execution_count": 43
  },
  {
   "metadata": {},
   "cell_type": "markdown",
   "source": [
    "### Questions\n",
    "1. What is the shape of matrix `A`?\n",
    "2. How do you interpret the system of equations from the matrix form?"
   ],
   "id": "8fc49fa78521200a"
  },
  {
   "metadata": {
    "ExecuteTime": {
     "end_time": "2025-01-11T06:12:07.681955Z",
     "start_time": "2025-01-11T06:12:07.679Z"
    }
   },
   "cell_type": "code",
   "source": [
    "# 1.\n",
    "print(f'Shape of matrix A: {A.shape}')"
   ],
   "id": "28699c433431e86e",
   "outputs": [
    {
     "name": "stdout",
     "output_type": "stream",
     "text": [
      "Shape of matrix A: (2, 2)\n"
     ]
    }
   ],
   "execution_count": 41
  },
  {
   "metadata": {},
   "cell_type": "markdown",
   "source": "2. Each row of the matrix represents one equation in the system, with the elements in that row corresponding to the coefficients of each variable in the equation, while the column positions represent the variables themselves",
   "id": "4a2e524061f9872"
  },
  {
   "metadata": {},
   "cell_type": "markdown",
   "source": [
    "### Task 2 - Solving the System\n",
    "\n",
    "1. Using NumPy, solve for the vector `X` ($x$ and $y$) in the matrix equation $AX = B$"
   ],
   "id": "9312282f3d40f437"
  },
  {
   "metadata": {
    "ExecuteTime": {
     "end_time": "2025-01-11T06:12:08.847873Z",
     "start_time": "2025-01-11T06:12:08.843896Z"
    }
   },
   "cell_type": "code",
   "source": [
    "# 1.\n",
    "solution = np.linalg.solve(A, B)\n",
    "print(solution, end=\"\\n\\n\")"
   ],
   "id": "178dfad4ef5a21c8",
   "outputs": [
    {
     "name": "stdout",
     "output_type": "stream",
     "text": [
      "[[1.]\n",
      " [1.]]\n",
      "\n"
     ]
    }
   ],
   "execution_count": 42
  },
  {
   "metadata": {},
   "cell_type": "markdown",
   "source": [
    "### Questions\n",
    "1. What are the values of $x$ and $y$?"
   ],
   "id": "c6e004bf0a46fe7e"
  },
  {
   "metadata": {
    "ExecuteTime": {
     "end_time": "2025-01-11T06:11:47.139501Z",
     "start_time": "2025-01-11T06:11:47.136775Z"
    }
   },
   "cell_type": "code",
   "source": [
    "# 1.\n",
    "print(f'x = {solution[0]}')\n",
    "print(f'y = {solution[1]}')"
   ],
   "id": "9dc107c00dad222a",
   "outputs": [
    {
     "name": "stdout",
     "output_type": "stream",
     "text": [
      "x = [1.]\n",
      "y = [1.]\n"
     ]
    }
   ],
   "execution_count": 40
  }
 ],
 "metadata": {
  "kernelspec": {
   "display_name": "Python 3",
   "language": "python",
   "name": "python3"
  },
  "language_info": {
   "codemirror_mode": {
    "name": "ipython",
    "version": 2
   },
   "file_extension": ".py",
   "mimetype": "text/x-python",
   "name": "python",
   "nbconvert_exporter": "python",
   "pygments_lexer": "ipython2",
   "version": "2.7.6"
  }
 },
 "nbformat": 4,
 "nbformat_minor": 5
}
