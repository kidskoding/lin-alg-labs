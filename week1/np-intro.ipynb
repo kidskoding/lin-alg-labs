{
 "cells": [
  {
   "metadata": {},
   "cell_type": "markdown",
   "source": [
    "# Lab 1 - Introduction to NumPy Arrays\n",
    "\n",
    "### Objective\n",
    "Learn the basics of creating, manipulating, and using NumPy\n",
    "arrays for linear algebra applications"
   ],
   "id": "1719a289fb6dc8d0"
  },
  {
   "metadata": {
    "collapsed": true,
    "ExecuteTime": {
     "end_time": "2025-01-10T23:10:30.119355Z",
     "start_time": "2025-01-10T23:10:30.115940Z"
    }
   },
   "cell_type": "code",
   "outputs": [],
   "execution_count": 29,
   "source": "import numpy as np",
   "id": "initial_id"
  },
  {
   "metadata": {},
   "cell_type": "markdown",
   "source": [
    "### Task 1 - Creating NumPy Arrays\n",
    "\n",
    "#### Create the following\n",
    "1. A 1D array with elements `[1, 2, 3, 4, 5]`\n",
    "2. A 2D array with the shape `(3, 3)` containing integers from `1` to `9`"
   ],
   "id": "914ae5988b45a0cb"
  },
  {
   "metadata": {
    "ExecuteTime": {
     "end_time": "2025-01-10T23:10:30.130587Z",
     "start_time": "2025-01-10T23:10:30.127397Z"
    }
   },
   "cell_type": "code",
   "source": [
    "# 1.\n",
    "arr1 = np.array([1, 2, 3, 4, 5])\n",
    "print(arr1)"
   ],
   "id": "dabb8180e8040142",
   "outputs": [
    {
     "name": "stdout",
     "output_type": "stream",
     "text": [
      "[1 2 3 4 5]\n"
     ]
    }
   ],
   "execution_count": 30
  },
  {
   "metadata": {
    "ExecuteTime": {
     "end_time": "2025-01-10T23:10:30.152087Z",
     "start_time": "2025-01-10T23:10:30.148893Z"
    }
   },
   "cell_type": "code",
   "source": [
    "# 2.\n",
    "arr2 = np.array([x for x in range(1, 10)])\n",
    "arr2.shape = (3, 3)\n",
    "print(arr2)"
   ],
   "id": "50d99b4cde7d1651",
   "outputs": [
    {
     "name": "stdout",
     "output_type": "stream",
     "text": [
      "[[1 2 3]\n",
      " [4 5 6]\n",
      " [7 8 9]]\n"
     ]
    }
   ],
   "execution_count": 31
  },
  {
   "metadata": {},
   "cell_type": "markdown",
   "source": [
    "### Questions\n",
    "1. What is the shape of each array?\n",
    "2. Can you change the shape of the 1D array into a `(1, 5)` and a `(5, 1)` array?"
   ],
   "id": "a4968f43627a4a9"
  },
  {
   "metadata": {
    "ExecuteTime": {
     "end_time": "2025-01-10T23:10:30.183847Z",
     "start_time": "2025-01-10T23:10:30.180698Z"
    }
   },
   "cell_type": "code",
   "source": [
    "# 1.\n",
    "print(f'Shape of 1D array: {arr1.shape}')\n",
    "print(f'Shape of 2D array: {arr2.shape}')"
   ],
   "id": "58a4ddf7d873bfcc",
   "outputs": [
    {
     "name": "stdout",
     "output_type": "stream",
     "text": [
      "Shape of 1D array: (5,)\n",
      "Shape of 2D array: (3, 3)\n"
     ]
    }
   ],
   "execution_count": 32
  },
  {
   "metadata": {
    "ExecuteTime": {
     "end_time": "2025-01-10T23:10:30.201382Z",
     "start_time": "2025-01-10T23:10:30.198211Z"
    }
   },
   "cell_type": "code",
   "source": [
    "# 2.\n",
    "arr1.shape = (1, 5)\n",
    "print('1D array with a (1, 5) shape')\n",
    "print(arr1, end='\\n\\n')\n",
    "\n",
    "arr1.shape = (5, 1)\n",
    "print('2D array with a (5, 1) shape:')\n",
    "print(arr1)"
   ],
   "id": "12753a6046088d28",
   "outputs": [
    {
     "name": "stdout",
     "output_type": "stream",
     "text": [
      "1D array with a (1, 5) shape\n",
      "[[1 2 3 4 5]]\n",
      "\n",
      "2D array with a (5, 1) shape:\n",
      "[[1]\n",
      " [2]\n",
      " [3]\n",
      " [4]\n",
      " [5]]\n"
     ]
    }
   ],
   "execution_count": 33
  },
  {
   "metadata": {},
   "cell_type": "markdown",
   "source": "Yes you can change the shape of the 1D array into a `(1, 5)` and `(5, 1)` array!",
   "id": "69e6c7be8e4ecb58"
  },
  {
   "metadata": {},
   "cell_type": "markdown",
   "source": [
    "\n",
    "### Task 2 - Array Operations\n",
    "\n",
    "1. Create two 1D arrays\n",
    "2. Perform the following operations:\n",
    "    1. Element-wise addition\n",
    "    2. Element-wise multiplication\n",
    "    3. Dot Product"
   ],
   "id": "866f8a9c19b9324a"
  },
  {
   "metadata": {
    "ExecuteTime": {
     "end_time": "2025-01-10T23:32:42.244460Z",
     "start_time": "2025-01-10T23:32:42.240592Z"
    }
   },
   "cell_type": "code",
   "source": [
    "# 1.\n",
    "first_arr = np.array([1, 2, 3])\n",
    "second_arr = np.array([4, 5, 6])\n",
    "\n",
    "# arr1.shape and arr2.shape should be (3,) indicating a 1D array of 3 elements\n",
    "print(f'1D Array: {first_arr}. Shape: {first_arr.shape}')\n",
    "print(f'2D Array: {second_arr}. Shape: {second_arr.shape}')"
   ],
   "id": "10873d0f6b6b72ce",
   "outputs": [
    {
     "name": "stdout",
     "output_type": "stream",
     "text": [
      "1D Array: [1 2 3]. Shape: (3,)\n",
      "2D Array: [4 5 6]. Shape: (3,)\n"
     ]
    }
   ],
   "execution_count": 47
  },
  {
   "metadata": {
    "ExecuteTime": {
     "end_time": "2025-01-10T23:32:43.119262Z",
     "start_time": "2025-01-10T23:32:43.116088Z"
    }
   },
   "cell_type": "code",
   "source": [
    "# 2.\n",
    "arr_sum = np.add(first_arr, second_arr)\n",
    "product = np.multiply(first_arr, second_arr)\n",
    "dot_product = np.dot(first_arr, second_arr)\n",
    "\n",
    "print(f'Element wise addition: {arr_sum}')\n",
    "print(f'Element wise multiplication: {product}')\n",
    "print(f'Dot Product: {dot_product}')"
   ],
   "id": "88759c1550e644df",
   "outputs": [
    {
     "name": "stdout",
     "output_type": "stream",
     "text": [
      "Element wise addition: [5 7 9]\n",
      "Element wise multiplication: [ 4 10 18]\n",
      "Dot Product: 32\n"
     ]
    }
   ],
   "execution_count": 48
  },
  {
   "metadata": {},
   "cell_type": "markdown",
   "source": [
    "### Questions\n",
    "1. What is the difference between `np.dot(a, b)` and `a * b`?\n",
    "2. Can you compute the Euclidean distance between the two arrays?"
   ],
   "id": "41d0e09a82e6c872"
  },
  {
   "metadata": {},
   "cell_type": "markdown",
   "source": "1. `np.dot(a, b)` calculates the dot product of vectors `a` and `b` (represented as NumPy arrays in Python), while `a * b` calculates the normal product of vectors `a` and `b`",
   "id": "a062bd19d88cead3"
  },
  {
   "metadata": {
    "ExecuteTime": {
     "end_time": "2025-01-10T23:47:59.237225Z",
     "start_time": "2025-01-10T23:47:59.233629Z"
    }
   },
   "cell_type": "code",
   "source": [
    "# 2. Euclidean Distance\n",
    "print(f'Euclidean Distance between {first_arr} and {second_arr}: {np.sqrt(np.sum((first_arr - second_arr) ** 2))}')"
   ],
   "id": "ef54e89063bdcf05",
   "outputs": [
    {
     "name": "stdout",
     "output_type": "stream",
     "text": [
      "Euclidean Distance between [1 2 3] and [4 5 6]: 5.196152422706632\n"
     ]
    }
   ],
   "execution_count": 53
  },
  {
   "metadata": {},
   "cell_type": "markdown",
   "source": [
    "### Task 3 - Matrix Operations\n",
    "\n",
    "1. Create a 2D array `A` with shape `(2, 2)`\n",
    "2. Perform the following operations\n",
    "    1. Transpose the matrix\n",
    "    2. Compute the determinant\n",
    "    3. Find the inverse (if it exists)"
   ],
   "id": "982ad3af3edc27f8"
  },
  {
   "metadata": {
    "ExecuteTime": {
     "end_time": "2025-01-10T23:55:16.932622Z",
     "start_time": "2025-01-10T23:55:16.929329Z"
    }
   },
   "cell_type": "code",
   "source": [
    "# 1.\n",
    "A = np.array([[1, 2], [3, 4]])\n",
    "\n",
    "print(f'2D Array A with shape (2, 2)')\n",
    "print(A, end='\\n\\n')\n",
    "# Verify shape is (2, 2)\n",
    "print(f'Shape: {A.shape}')"
   ],
   "id": "90a3ca1c5af10980",
   "outputs": [
    {
     "name": "stdout",
     "output_type": "stream",
     "text": [
      "2D Array A with shape (2, 2)\n",
      "[[1 2]\n",
      " [3 4]]\n",
      "\n",
      "Shape: (2, 2)\n"
     ]
    }
   ],
   "execution_count": 58
  },
  {
   "metadata": {
    "ExecuteTime": {
     "end_time": "2025-01-10T23:59:48.730291Z",
     "start_time": "2025-01-10T23:59:48.725708Z"
    }
   },
   "cell_type": "code",
   "source": [
    "# 2.\n",
    "A_transpose = np.transpose(A)\n",
    "det = np.linalg.det(A)\n",
    "inverse = np.linalg.inv(A)\n",
    "\n",
    "print('Transpose')\n",
    "print(A_transpose, end='\\n\\n')\n",
    "\n",
    "print(f'Determinant: {det}', end='\\n\\n')\n",
    "\n",
    "print(f'Inverse')\n",
    "print(inverse)"
   ],
   "id": "5adbcb2fca255211",
   "outputs": [
    {
     "name": "stdout",
     "output_type": "stream",
     "text": [
      "Transpose\n",
      "[[1 3]\n",
      " [2 4]]\n",
      "\n",
      "Determinant: -2.0000000000000004\n",
      "\n",
      "Inverse\n",
      "[[-2.   1. ]\n",
      " [ 1.5 -0.5]]\n"
     ]
    }
   ],
   "execution_count": 62
  },
  {
   "metadata": {},
   "cell_type": "markdown",
   "source": [
    "### Questions\n",
    "\n",
    "1. What happens when the determinant is zero?\n",
    "2. Explain why the matrix might not have an inverse"
   ],
   "id": "d86b3a3021549530"
  },
  {
   "metadata": {},
   "cell_type": "markdown",
   "source": "1. When the determinant is zero, the matrix is singular. This means that its system has a unique solution",
   "id": "2d7f9375443067d1"
  },
  {
   "metadata": {
    "ExecuteTime": {
     "end_time": "2025-01-11T00:22:29.854512Z",
     "start_time": "2025-01-11T00:22:29.848805Z"
    }
   },
   "cell_type": "code",
   "source": [
    "# Example matrix that has a determinant of 0\n",
    "# The products of the diagonals (ad and bc) are equal\n",
    "mat = np.array([[1, 2], [2, 4]])\n",
    "det = np.linalg.det(mat)\n",
    "\n",
    "print(f'Matrix determinant: {det}')"
   ],
   "id": "7c27677a67136da",
   "outputs": [
    {
     "name": "stdout",
     "output_type": "stream",
     "text": [
      "Matrix determinant: 0.0\n"
     ]
    }
   ],
   "execution_count": 67
  },
  {
   "metadata": {
    "ExecuteTime": {
     "end_time": "2025-01-11T00:25:12.129687Z",
     "start_time": "2025-01-11T00:25:12.109880Z"
    }
   },
   "cell_type": "code",
   "source": [
    "# THIS CODE ERRORS!\n",
    "\n",
    "inverse = np.linalg.inv(mat)\n",
    "print(f'Inverse: {inverse}')"
   ],
   "id": "907f474c8cc4974a",
   "outputs": [
    {
     "ename": "LinAlgError",
     "evalue": "Singular matrix",
     "output_type": "error",
     "traceback": [
      "\u001B[0;31m---------------------------------------------------------------------------\u001B[0m",
      "\u001B[0;31mLinAlgError\u001B[0m                               Traceback (most recent call last)",
      "Cell \u001B[0;32mIn[70], line 3\u001B[0m\n\u001B[1;32m      1\u001B[0m \u001B[38;5;66;03m# THIS CODE ERRORS!\u001B[39;00m\n\u001B[0;32m----> 3\u001B[0m inverse \u001B[38;5;241m=\u001B[39m \u001B[43mnp\u001B[49m\u001B[38;5;241;43m.\u001B[39;49m\u001B[43mlinalg\u001B[49m\u001B[38;5;241;43m.\u001B[39;49m\u001B[43minv\u001B[49m\u001B[43m(\u001B[49m\u001B[43mmat\u001B[49m\u001B[43m)\u001B[49m\n\u001B[1;32m      4\u001B[0m \u001B[38;5;28mprint\u001B[39m(\u001B[38;5;124mf\u001B[39m\u001B[38;5;124m'\u001B[39m\u001B[38;5;124mInverse: \u001B[39m\u001B[38;5;132;01m{\u001B[39;00minverse\u001B[38;5;132;01m}\u001B[39;00m\u001B[38;5;124m'\u001B[39m)\n",
      "File \u001B[0;32m~/UIUC/Computer-Science/lin-alg-labs/.venv/lib/python3.13/site-packages/numpy/linalg/_linalg.py:609\u001B[0m, in \u001B[0;36minv\u001B[0;34m(a)\u001B[0m\n\u001B[1;32m    606\u001B[0m signature \u001B[38;5;241m=\u001B[39m \u001B[38;5;124m'\u001B[39m\u001B[38;5;124mD->D\u001B[39m\u001B[38;5;124m'\u001B[39m \u001B[38;5;28;01mif\u001B[39;00m isComplexType(t) \u001B[38;5;28;01melse\u001B[39;00m \u001B[38;5;124m'\u001B[39m\u001B[38;5;124md->d\u001B[39m\u001B[38;5;124m'\u001B[39m\n\u001B[1;32m    607\u001B[0m \u001B[38;5;28;01mwith\u001B[39;00m errstate(call\u001B[38;5;241m=\u001B[39m_raise_linalgerror_singular, invalid\u001B[38;5;241m=\u001B[39m\u001B[38;5;124m'\u001B[39m\u001B[38;5;124mcall\u001B[39m\u001B[38;5;124m'\u001B[39m,\n\u001B[1;32m    608\u001B[0m               over\u001B[38;5;241m=\u001B[39m\u001B[38;5;124m'\u001B[39m\u001B[38;5;124mignore\u001B[39m\u001B[38;5;124m'\u001B[39m, divide\u001B[38;5;241m=\u001B[39m\u001B[38;5;124m'\u001B[39m\u001B[38;5;124mignore\u001B[39m\u001B[38;5;124m'\u001B[39m, under\u001B[38;5;241m=\u001B[39m\u001B[38;5;124m'\u001B[39m\u001B[38;5;124mignore\u001B[39m\u001B[38;5;124m'\u001B[39m):\n\u001B[0;32m--> 609\u001B[0m     ainv \u001B[38;5;241m=\u001B[39m \u001B[43m_umath_linalg\u001B[49m\u001B[38;5;241;43m.\u001B[39;49m\u001B[43minv\u001B[49m\u001B[43m(\u001B[49m\u001B[43ma\u001B[49m\u001B[43m,\u001B[49m\u001B[43m \u001B[49m\u001B[43msignature\u001B[49m\u001B[38;5;241;43m=\u001B[39;49m\u001B[43msignature\u001B[49m\u001B[43m)\u001B[49m\n\u001B[1;32m    610\u001B[0m \u001B[38;5;28;01mreturn\u001B[39;00m wrap(ainv\u001B[38;5;241m.\u001B[39mastype(result_t, copy\u001B[38;5;241m=\u001B[39m\u001B[38;5;28;01mFalse\u001B[39;00m))\n",
      "File \u001B[0;32m~/UIUC/Computer-Science/lin-alg-labs/.venv/lib/python3.13/site-packages/numpy/linalg/_linalg.py:104\u001B[0m, in \u001B[0;36m_raise_linalgerror_singular\u001B[0;34m(err, flag)\u001B[0m\n\u001B[1;32m    103\u001B[0m \u001B[38;5;28;01mdef\u001B[39;00m\u001B[38;5;250m \u001B[39m\u001B[38;5;21m_raise_linalgerror_singular\u001B[39m(err, flag):\n\u001B[0;32m--> 104\u001B[0m     \u001B[38;5;28;01mraise\u001B[39;00m LinAlgError(\u001B[38;5;124m\"\u001B[39m\u001B[38;5;124mSingular matrix\u001B[39m\u001B[38;5;124m\"\u001B[39m)\n",
      "\u001B[0;31mLinAlgError\u001B[0m: Singular matrix"
     ]
    }
   ],
   "execution_count": 70
  },
  {
   "metadata": {},
   "cell_type": "markdown",
   "source": "2. The code above errors because when a matrix has a determinant of zero, it doesn't have an inverse. This is because the columns of the matrix are linearly dependent (rows depend on each other)",
   "id": "33b15fe307019c02"
  },
  {
   "metadata": {},
   "cell_type": "markdown",
   "source": [
    "### Task 4 - Slicing and Indexing\n",
    "\n",
    "1. Create 2D array `B` with contents\n",
    "    1. `[[10, 20, 30], [40, 50, 60], [70, 80, 90]]`\n",
    "2. Perform the following\n",
    "    1. Extract the row\n",
    "    2. Extract the second column\n",
    "    3. Extract the sub matrix\n",
    "        1. `[[50, 60], [80, 90]]`"
   ],
   "id": "b37ae3f9c7f9dd93"
  },
  {
   "metadata": {
    "ExecuteTime": {
     "end_time": "2025-01-11T00:40:11.669884Z",
     "start_time": "2025-01-11T00:40:11.663947Z"
    }
   },
   "cell_type": "code",
   "source": [
    "# 1.\n",
    "B = np.array([[10, 20, 30],\n",
    "              [40, 50, 60],\n",
    "              [70, 80, 90]])\n",
    "\n",
    "print(B)"
   ],
   "id": "117893887570bc7",
   "outputs": [
    {
     "name": "stdout",
     "output_type": "stream",
     "text": [
      "[[10 20 30]\n",
      " [40 50 60]\n",
      " [70 80 90]]\n"
     ]
    }
   ],
   "execution_count": 71
  },
  {
   "metadata": {
    "ExecuteTime": {
     "end_time": "2025-01-11T00:45:34.660695Z",
     "start_time": "2025-01-11T00:45:34.656342Z"
    }
   },
   "cell_type": "code",
   "source": [
    "# 2.\n",
    "row = B[0, :]\n",
    "second_col = B[:, 1]\n",
    "sub_mat = B[1:, 1:]\n",
    "\n",
    "print(f'Row: {row}', end='\\n\\n')\n",
    "\n",
    "print(f'Second Column: {second_col}', end='\\n\\n')\n",
    "\n",
    "print('Sub-matrix')\n",
    "print(sub_mat)"
   ],
   "id": "bfcadd307cb67396",
   "outputs": [
    {
     "name": "stdout",
     "output_type": "stream",
     "text": [
      "Row: [10 20 30]\n",
      "\n",
      "Second Column: [20 50 80]\n",
      "\n",
      "Sub-matrix\n",
      "[[50 60]\n",
      " [80 90]]\n"
     ]
    }
   ],
   "execution_count": 80
  },
  {
   "metadata": {},
   "cell_type": "markdown",
   "source": [
    "### Questions\n",
    "\n",
    "1. What happens if you try to access an index out of bounds?\n",
    "2. How can you extract diagonal elements from the matrix?"
   ],
   "id": "d4bb5a7d4ea7fdff"
  },
  {
   "metadata": {
    "ExecuteTime": {
     "end_time": "2025-01-11T00:47:23.372726Z",
     "start_time": "2025-01-11T00:47:23.354934Z"
    }
   },
   "cell_type": "code",
   "source": [
    "# 1. (THIS CODE WILL ERROR!)\n",
    "\n",
    "sub_mat_2 = B[3, :]\n",
    "print(sub_mat_2)"
   ],
   "id": "c73e4c4ec6e51d",
   "outputs": [
    {
     "ename": "IndexError",
     "evalue": "index 3 is out of bounds for axis 0 with size 3",
     "output_type": "error",
     "traceback": [
      "\u001B[0;31m---------------------------------------------------------------------------\u001B[0m",
      "\u001B[0;31mIndexError\u001B[0m                                Traceback (most recent call last)",
      "Cell \u001B[0;32mIn[81], line 1\u001B[0m\n\u001B[0;32m----> 1\u001B[0m sub_mat_2 \u001B[38;5;241m=\u001B[39m \u001B[43mB\u001B[49m\u001B[43m[\u001B[49m\u001B[38;5;241;43m3\u001B[39;49m\u001B[43m,\u001B[49m\u001B[43m \u001B[49m\u001B[43m:\u001B[49m\u001B[43m]\u001B[49m\n\u001B[1;32m      2\u001B[0m \u001B[38;5;28mprint\u001B[39m(sub_mat_2)\n",
      "\u001B[0;31mIndexError\u001B[0m: index 3 is out of bounds for axis 0 with size 3"
     ]
    }
   ],
   "execution_count": 81
  },
  {
   "metadata": {},
   "cell_type": "markdown",
   "source": "1. Attempting to access an index out of bounds will result in an `IndexError`",
   "id": "58b527ea1b1f7fb7"
  },
  {
   "metadata": {
    "ExecuteTime": {
     "end_time": "2025-01-11T01:02:42.763843Z",
     "start_time": "2025-01-11T01:02:42.760025Z"
    }
   },
   "cell_type": "code",
   "source": [
    "# 2.\n",
    "left_diag = np.diag(sub_mat)\n",
    "left_diag_1 = np.diag(sub_mat, -1)\n",
    "right_diag = np.diag(np.fliplr(sub_mat))\n",
    "\n",
    "print(f'Left diagonal: {left_diag}')\n",
    "print(f'First element below left diagonal: {left_diag_1}')\n",
    "print(f'Right diagonal: {right_diag}')"
   ],
   "id": "d847ab0074225be6",
   "outputs": [
    {
     "name": "stdout",
     "output_type": "stream",
     "text": [
      "Left diagonal: [50 90]\n",
      "First element below left diagonal: [80]\n",
      "Right diagonal: [60 80]\n"
     ]
    }
   ],
   "execution_count": 114
  },
  {
   "metadata": {},
   "cell_type": "markdown",
   "source": "2. Extracting diagonal elements can be done by using Numpy's `diag()` function",
   "id": "47f0971908d73486"
  }
 ],
 "metadata": {
  "kernelspec": {
   "display_name": "Python 3",
   "language": "python",
   "name": "python3"
  },
  "language_info": {
   "codemirror_mode": {
    "name": "ipython",
    "version": 2
   },
   "file_extension": ".py",
   "mimetype": "text/x-python",
   "name": "python",
   "nbconvert_exporter": "python",
   "pygments_lexer": "ipython2",
   "version": "2.7.6"
  }
 },
 "nbformat": 4,
 "nbformat_minor": 5
}
