{
 "cells": [
  {
   "metadata": {},
   "cell_type": "markdown",
   "source": [
    "# Lab 4 - Gaussian Elimination\n",
    "\n",
    "### Objective\n",
    "Learn to implement the Gaussian Elimination algorithm using Python and NumPy, which is used to solve a system by transforming its matrix into one that is in row-echelon or reduced row-echelon form."
   ],
   "id": "3e9c1c1e05f36257"
  },
  {
   "metadata": {
    "ExecuteTime": {
     "end_time": "2025-01-13T09:46:12.857489Z",
     "start_time": "2025-01-13T09:46:12.853216Z"
    }
   },
   "cell_type": "code",
   "source": "import numpy as np",
   "id": "6423b6dad81a9483",
   "outputs": [],
   "execution_count": 202
  },
  {
   "metadata": {},
   "cell_type": "markdown",
   "source": [
    "## Introduction\n",
    "\n",
    "### The Gaussian Elimination algorithm involves 3 main steps\n",
    "\n",
    "1. Convert the system into an augmented matrix\n",
    "2. Use forward elimination to convert the augmented matrix into row echelon form\n",
    "3. Use back substitution to solve for variables starting from the last row in the matrix\n",
    "\n",
    "The code for this algorithm can be split into these 3 main steps"
   ],
   "id": "6944c42ce7b300f4"
  },
  {
   "metadata": {},
   "cell_type": "markdown",
   "source": [
    "### Task 1 - Augumented Matrix\n",
    "\n",
    "1. Implement the augmented matrix for the system below\n",
    "\n",
    "    $\\begin{aligned}\n",
    "    &2x + y - z = 8 \\\\\n",
    "    &-3x - y + 2z = -11 \\\\\n",
    "    &-2x + y + 2z = -3\n",
    "    \\end{aligned}$"
   ],
   "id": "9c062cb98d038f41"
  },
  {
   "metadata": {
    "ExecuteTime": {
     "end_time": "2025-01-13T09:46:12.872857Z",
     "start_time": "2025-01-13T09:46:12.868147Z"
    }
   },
   "cell_type": "code",
   "source": [
    "# 1.\n",
    "A = np.array([[2, 3, -1], [4, 1, 1], [-2, 5, 3]], dtype=float)\n",
    "B = np.array([[1, 6, 5]], dtype=float)\n",
    "# A = np.array([[2, 1, -1], [-3, -1, 2], [-2, 1, 2]], dtype=float)\n",
    "# B = np.array([8, -11, -3], dtype=float)\n",
    "\n",
    "print(f\"A\\n{A}\\n\")\n",
    "print(f\"B\\n{B}\\n\")\n",
    "\n",
    "augmented_matrix = np.hstack((A, B.reshape(-1, 1)))\n",
    "print(f'Augmented matrix for A and B')\n",
    "print(augmented_matrix)"
   ],
   "id": "2e6fea86d3aa3d70",
   "outputs": [
    {
     "name": "stdout",
     "output_type": "stream",
     "text": [
      "A\n",
      "[[ 2.  3. -1.]\n",
      " [ 4.  1.  1.]\n",
      " [-2.  5.  3.]]\n",
      "\n",
      "B\n",
      "[[1. 6. 5.]]\n",
      "\n",
      "Augmented matrix for A and B\n",
      "[[ 2.  3. -1.  1.]\n",
      " [ 4.  1.  1.  6.]\n",
      " [-2.  5.  3.  5.]]\n"
     ]
    }
   ],
   "execution_count": 203
  },
  {
   "metadata": {},
   "cell_type": "markdown",
   "source": [
    "### Task 2 - Forward Elimination\n",
    "\n",
    "1. Using the system and augmented matrix from Task 1, implement the second step of the gaussian elimination algorithm: forward elimination\n",
    "\n",
    "Recall that Forward elimination involves using row operations to convert an augmented matrix into its row echelon form"
   ],
   "id": "86af3ec4033a9169"
  },
  {
   "metadata": {
    "ExecuteTime": {
     "end_time": "2025-01-13T09:46:12.889743Z",
     "start_time": "2025-01-13T09:46:12.886445Z"
    }
   },
   "cell_type": "code",
   "source": [
    "# 1.\n",
    "rows, cols = augmented_matrix.shape\n",
    "for i in range(rows):\n",
    "    # Normalize the pivot row\n",
    "    augmented_matrix[i, :] = augmented_matrix[i, :] / augmented_matrix[i, i]\n",
    "\n",
    "    # Zero out the columns below the pivot\n",
    "    for j in range(i + 1, rows):\n",
    "        scale_factor = augmented_matrix[j, i]\n",
    "        augmented_matrix[j, :] = augmented_matrix[j, :] - scale_factor * augmented_matrix[i, :]\n",
    "\n",
    "# The resulting matrix is in row echelon form\n",
    "print(augmented_matrix)"
   ],
   "id": "48f8eb8f57f1a2f4",
   "outputs": [
    {
     "name": "stdout",
     "output_type": "stream",
     "text": [
      "[[ 1.          1.5        -0.5         0.5       ]\n",
      " [-0.          1.         -0.6        -0.8       ]\n",
      " [ 0.          0.          1.          1.82352941]]\n"
     ]
    }
   ],
   "execution_count": 204
  },
  {
   "metadata": {},
   "cell_type": "markdown",
   "source": [
    "### Task 3 - Back Substitution\n",
    "\n",
    "1. Using the augmented matrix thats in row echelon form from Task 2, implement the third step of the gaussian elimination algorithm: back substitution\n",
    "\n",
    "Recall that Back Subtitution solves for the unknown variables in a matrix by working from the bottom row to the top of a matrix in row echelon form"
   ],
   "id": "4749bec18454698d"
  },
  {
   "metadata": {
    "ExecuteTime": {
     "end_time": "2025-01-13T09:46:12.914067Z",
     "start_time": "2025-01-13T09:46:12.911044Z"
    }
   },
   "cell_type": "code",
   "source": [
    "# 1.\n",
    "solutions = np.zeros(rows)\n",
    "for i in range(rows - 1, -1, -1):\n",
    "    solutions[i] = augmented_matrix[i, -1] - np.dot(augmented_matrix[i, i+1:cols-1], solutions[i+1:])\n",
    "\n",
    "x, y, z = solutions\n",
    "print(f'x = {x}')\n",
    "print(f'y = {y}')\n",
    "print(f'z = {z}')"
   ],
   "id": "96628fcbc34fbb2",
   "outputs": [
    {
     "name": "stdout",
     "output_type": "stream",
     "text": [
      "x = 0.9705882352941176\n",
      "y = 0.2941176470588236\n",
      "z = 1.823529411764706\n"
     ]
    }
   ],
   "execution_count": 205
  },
  {
   "metadata": {},
   "cell_type": "markdown",
   "source": [
    "### Bonus Task - Reduced Row Echelon Form (RREF)\n",
    "\n",
    "Task 2 involved simplifying a matrix into its row echelon form.\n",
    "\n",
    "1. However, an additional step can be taken to simplify the row echelon form matrix even further. This involves simplifying the row echelon form matrix into its reduced row echelon form\n",
    "\n",
    "Recall that in reduced row echelon form, the matrix's elements are also zero past the pivot"
   ],
   "id": "787ac1a05e8e0988"
  },
  {
   "metadata": {
    "ExecuteTime": {
     "end_time": "2025-01-13T09:46:12.933016Z",
     "start_time": "2025-01-13T09:46:12.928506Z"
    }
   },
   "cell_type": "code",
   "source": [
    "# 1.\n",
    "for i in range(rows):\n",
    "    # Make the pivot 1\n",
    "    pivot = augmented_matrix[i, i]\n",
    "    if pivot != 0:\n",
    "        augmented_matrix[i, :] = augmented_matrix[i, :] / pivot\n",
    "\n",
    "    # Zero the elements below the pivot\n",
    "    for j in range(i + 1, rows):\n",
    "        factor = augmented_matrix[j, i]\n",
    "        augmented_matrix[j, :] = augmented_matrix[j, :] - factor * augmented_matrix[i, :]\n",
    "\n",
    "# Backwards elimination to zero out elements above the pivots\n",
    "for i in range(rows - 1, -1, -1):\n",
    "    for j in range(i - 1, -1, -1):\n",
    "        factor = augmented_matrix[j, i]\n",
    "        augmented_matrix[j, :] = augmented_matrix[j, :] - factor * augmented_matrix[i, :]\n",
    "\n",
    "# The result is a reduced row echelon form matrix\n",
    "print(augmented_matrix)"
   ],
   "id": "4edefe25cd6bc4cb",
   "outputs": [
    {
     "name": "stdout",
     "output_type": "stream",
     "text": [
      "[[1.         0.         0.         0.97058824]\n",
      " [0.         1.         0.         0.29411765]\n",
      " [0.         0.         1.         1.82352941]]\n"
     ]
    }
   ],
   "execution_count": 206
  }
 ],
 "metadata": {
  "kernelspec": {
   "display_name": "Python 3",
   "language": "python",
   "name": "python3"
  },
  "language_info": {
   "codemirror_mode": {
    "name": "ipython",
    "version": 2
   },
   "file_extension": ".py",
   "mimetype": "text/x-python",
   "name": "python",
   "nbconvert_exporter": "python",
   "pygments_lexer": "ipython2",
   "version": "2.7.6"
  }
 },
 "nbformat": 4,
 "nbformat_minor": 5
}
