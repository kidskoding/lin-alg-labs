{
 "cells": [
  {
   "metadata": {},
   "cell_type": "markdown",
   "source": [
    "# Lab 3 - Introduction to `np.linalg` Sub-Library\n",
    "\n",
    "### Objective\n",
    "Explore the basic functionalities of the `np.linalg` sub-library, including solving systems of equations, finding determinants, computing eigenvalues and eigenvectors, and performing matrix decompositions."
   ],
   "id": "1fda0a3a9124f200"
  },
  {
   "metadata": {
    "ExecuteTime": {
     "end_time": "2025-01-11T19:01:58.846894Z",
     "start_time": "2025-01-11T19:01:58.841353Z"
    }
   },
   "cell_type": "code",
   "source": "import numpy as np",
   "id": "e3a8f40a2d5ba707",
   "outputs": [],
   "execution_count": 9
  },
  {
   "metadata": {},
   "cell_type": "markdown",
   "source": [
    "### Task 1 - Solving Systems of Linear Equations\n",
    "1. Consider the system of equations\n",
    "\n",
    "    `3x + 4y = 7`<br />\n",
    "    `2x - y = 1`\n",
    "    1. Let the system be represented as a matrix equation in the form of $AX = B$. Solve for the vector `X` ($x$ and $y$)."
   ],
   "id": "f50c87b91eaaee12"
  },
  {
   "metadata": {
    "ExecuteTime": {
     "end_time": "2025-01-11T19:01:58.858191Z",
     "start_time": "2025-01-11T19:01:58.853454Z"
    }
   },
   "cell_type": "code",
   "source": [
    "# 1.\n",
    "A = np.array([[3, 4], [2, -1]])\n",
    "B = np.array([[7], [1]])\n",
    "\n",
    "solution = np.linalg.solve(A, B)\n",
    "print(solution, end=\"\\n\\n\")"
   ],
   "id": "7a9518a0f7bbf48c",
   "outputs": [
    {
     "name": "stdout",
     "output_type": "stream",
     "text": [
      "[[1.]\n",
      " [1.]]\n",
      "\n"
     ]
    }
   ],
   "execution_count": 10
  },
  {
   "metadata": {},
   "cell_type": "markdown",
   "source": [
    "### Questions\n",
    "1. What are the values of $x$ and $y$?"
   ],
   "id": "d6821b29fab0a947"
  },
  {
   "metadata": {
    "ExecuteTime": {
     "end_time": "2025-01-11T23:14:06.139768Z",
     "start_time": "2025-01-11T23:14:06.115537Z"
    }
   },
   "cell_type": "code",
   "source": [
    "# 1.\n",
    "print(f'x = {np.int32(solution[0])}')\n",
    "print(f'y = {np.int32(solution[1])}')"
   ],
   "id": "9f31e752b98afa8e",
   "outputs": [
    {
     "name": "stdout",
     "output_type": "stream",
     "text": [
      "x = [1]\n",
      "y = [1]\n"
     ]
    }
   ],
   "execution_count": 17
  },
  {
   "metadata": {},
   "cell_type": "markdown",
   "source": [
    "### Task 2 - Determinants\n",
    "\n",
    "1. Calculate the determinant of the matrix `A`\n",
    "$$A = \\begin{bmatrix} 2 & 1 \\\\ 4 & -3 \\end{bmatrix}$$"
   ],
   "id": "4dc3ee22ac85a476"
  },
  {
   "metadata": {
    "ExecuteTime": {
     "end_time": "2025-01-11T23:14:21.588713Z",
     "start_time": "2025-01-11T23:14:21.576767Z"
    }
   },
   "cell_type": "code",
   "source": [
    "A = np.array([[2, 1], [4, -3]])\n",
    "det = np.linalg.det(A)\n",
    "print(f'Determinant = {np.int32(det)}')"
   ],
   "id": "613c570a0f8aa575",
   "outputs": [
    {
     "name": "stdout",
     "output_type": "stream",
     "text": [
      "Determinant = -10\n"
     ]
    }
   ],
   "execution_count": 18
  },
  {
   "metadata": {},
   "cell_type": "markdown",
   "source": [
    "### Questions\n",
    "\n",
    "1. What is the value of the determinant?\n",
    "2. What does the determinant tell you about the system of equations?"
   ],
   "id": "462b428ba7733713"
  },
  {
   "metadata": {},
   "cell_type": "markdown",
   "source": [
    "1. The value of the determinant is -10\n",
    "    1. Can check with math by using det formula `ad - bc` = $2 \\cdot -3 - 1 \\cdot 4 = -10$\n",
    "2. The determinant tells you whether a system has a unique solution or not.\n",
    "    1. If it is 0, there is no unique solution, otherwise there is"
   ],
   "id": "ba3f2c1643c73ab0"
  }
 ],
 "metadata": {
  "kernelspec": {
   "display_name": "Python 3",
   "language": "python",
   "name": "python3"
  },
  "language_info": {
   "codemirror_mode": {
    "name": "ipython",
    "version": 2
   },
   "file_extension": ".py",
   "mimetype": "text/x-python",
   "name": "python",
   "nbconvert_exporter": "python",
   "pygments_lexer": "ipython2",
   "version": "2.7.6"
  }
 },
 "nbformat": 4,
 "nbformat_minor": 5
}
