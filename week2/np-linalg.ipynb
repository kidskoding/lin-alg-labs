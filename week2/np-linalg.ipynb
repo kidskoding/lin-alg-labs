{
 "cells": [
  {
   "metadata": {},
   "cell_type": "markdown",
   "source": [
    "# Lab 3 - Introduction to `np.linalg` Sub-Library\n",
    "\n",
    "### Objective\n",
    "Explore the basic functionalities of the `np.linalg` sub-library, including solving systems of equations, finding determinants, computing eigenvalues and eigenvectors, and performing matrix decompositions."
   ],
   "id": "1fda0a3a9124f200"
  },
  {
   "metadata": {
    "ExecuteTime": {
     "end_time": "2025-01-11T06:55:14.064335Z",
     "start_time": "2025-01-11T06:55:14.006420Z"
    }
   },
   "cell_type": "code",
   "source": "import numpy as np",
   "id": "e3a8f40a2d5ba707",
   "outputs": [],
   "execution_count": 2
  },
  {
   "metadata": {},
   "cell_type": "markdown",
   "source": [
    "### Task 1 - Solving Systems of Linear Equations\n",
    "1. Consider the system of equations\n",
    "\n",
    "    `3x + 4y = 7`<br />\n",
    "    `2x - y = 1`\n",
    "    1. Let the system be represented as a matrix equation in the form of $AX = B$. Solve for the vector `X` ($x$ and $y$)."
   ],
   "id": "f50c87b91eaaee12"
  },
  {
   "metadata": {
    "ExecuteTime": {
     "end_time": "2025-01-11T06:55:15.789975Z",
     "start_time": "2025-01-11T06:55:15.785377Z"
    }
   },
   "cell_type": "code",
   "source": [
    "# 1.\n",
    "A = np.array([[3, 4], [2, -1]])\n",
    "B = np.array([[7], [1]])\n",
    "\n",
    "solution = np.linalg.solve(A, B)\n",
    "print(solution, end=\"\\n\\n\")"
   ],
   "id": "7a9518a0f7bbf48c",
   "outputs": [
    {
     "name": "stdout",
     "output_type": "stream",
     "text": [
      "[[1.]\n",
      " [1.]]\n",
      "\n"
     ]
    }
   ],
   "execution_count": 3
  },
  {
   "metadata": {},
   "cell_type": "markdown",
   "source": [
    "### Questions\n",
    "1. What are the values of $x$ and $y$?"
   ],
   "id": "d6821b29fab0a947"
  },
  {
   "metadata": {
    "ExecuteTime": {
     "end_time": "2025-01-11T06:56:36.883535Z",
     "start_time": "2025-01-11T06:56:36.880270Z"
    }
   },
   "cell_type": "code",
   "source": [
    "# 1.\n",
    "print(f'x = {solution[0]}')\n",
    "print(f'y = {solution[1]}')"
   ],
   "id": "9f31e752b98afa8e",
   "outputs": [
    {
     "name": "stdout",
     "output_type": "stream",
     "text": [
      "x = [1.]\n",
      "y = [1.]\n"
     ]
    }
   ],
   "execution_count": 4
  },
  {
   "metadata": {},
   "cell_type": "markdown",
   "source": [
    "### Task 2 - Determinants\n",
    "\n",
    "1. Calculate the determinant of the matrix `A`\n",
    "$$A = \\begin{bmatrix} 2 & 1 \\\\ 4 & -3 \\end{bmatrix}$$"
   ],
   "id": "4dc3ee22ac85a476"
  },
  {
   "metadata": {
    "ExecuteTime": {
     "end_time": "2025-01-11T07:00:25.985773Z",
     "start_time": "2025-01-11T07:00:25.979769Z"
    }
   },
   "cell_type": "code",
   "source": [
    "det = np.linalg.det(A)\n",
    "print(f'Determinant = {det}')"
   ],
   "id": "613c570a0f8aa575",
   "outputs": [
    {
     "name": "stdout",
     "output_type": "stream",
     "text": [
      "Determinant = -11.000000000000002\n"
     ]
    }
   ],
   "execution_count": 5
  },
  {
   "metadata": {},
   "cell_type": "markdown",
   "source": [
    "### Questions\n",
    "\n",
    "1. What is the value of the determinant?\n",
    "2. What does the determinant tell you about the system of equations?"
   ],
   "id": "462b428ba7733713"
  },
  {
   "metadata": {},
   "cell_type": "markdown",
   "source": [
    "1. The value of the determinant is -11.000000000000002\n",
    "2. The determinant tells you whether a system has a unique solution or not.\n",
    "    1. If it is 0, there is no unique solution, otherwise there is"
   ],
   "id": "ba3f2c1643c73ab0"
  }
 ],
 "metadata": {
  "kernelspec": {
   "display_name": "Python 3",
   "language": "python",
   "name": "python3"
  },
  "language_info": {
   "codemirror_mode": {
    "name": "ipython",
    "version": 2
   },
   "file_extension": ".py",
   "mimetype": "text/x-python",
   "name": "python",
   "nbconvert_exporter": "python",
   "pygments_lexer": "ipython2",
   "version": "2.7.6"
  }
 },
 "nbformat": 4,
 "nbformat_minor": 5
}
